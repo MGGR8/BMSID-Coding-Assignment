{
 "cells": [
  {
   "cell_type": "code",
   "execution_count": 6,
   "metadata": {},
   "outputs": [
    {
     "name": "stdout",
     "output_type": "stream",
     "text": [
      "ABC_plane_normal: [ 0.          0.90043939 -0.43498149]\n",
      "unit_vector_along_q: [ 0.33075287 -0.4104996  -0.84976033]\n",
      "Coordinates of fourth atom are: [ 1.25386489 -0.52822713 -2.38757982]\n"
     ]
    }
   ],
   "source": [
    "import numpy as np\n",
    "\n",
    "def rotate_point(point, angle, line_direction_cosines):\n",
    "    # convert angle to radians\n",
    "    angle = np.deg2rad(angle)\n",
    "    rotation_matrix = [\n",
    "        [\n",
    "            np.cos(angle) + line_direction_cosines[0] ** 2 * (1 - np.cos(angle)),\n",
    "            line_direction_cosines[0] * line_direction_cosines[1] * (1 - np.cos(angle)) - line_direction_cosines[2] * np.sin(angle),\n",
    "            line_direction_cosines[0] * line_direction_cosines[2] * (1 - np.cos(angle)) + line_direction_cosines[1] * np.sin(angle)\n",
    "        ],\n",
    "        [\n",
    "            line_direction_cosines[0] * line_direction_cosines[1] * (1 - np.cos(angle)) + line_direction_cosines[2] * np.sin(angle),\n",
    "            np.cos(angle) + line_direction_cosines[1] ** 2 * (1 - np.cos(angle)),\n",
    "            line_direction_cosines[1] * line_direction_cosines[2] * (1 - np.cos(angle)) - line_direction_cosines[0] * np.sin(angle)\n",
    "        ],\n",
    "        [\n",
    "            line_direction_cosines[0] * line_direction_cosines[2] * (1 - np.cos(angle)) - line_direction_cosines[1] * np.sin(angle),\n",
    "            line_direction_cosines[1] * line_direction_cosines[2] * (1 - np.cos(angle)) + line_direction_cosines[0] * np.sin(angle),\n",
    "            np.cos(angle) + line_direction_cosines[2] ** 2 * (1 - np.cos(angle))\n",
    "        ]\n",
    "    ]\n",
    "\n",
    "    return np.matmul(np.array(rotation_matrix), np.array(point))\n",
    "\n",
    "def get_fourth_atom_coordinates(first_atom_coordinates, second_atom_coordinates, third_atom_coordinates, bond_length, bond_angle, dihedral_angle):\n",
    "    first_atom_coordinates = np.array(first_atom_coordinates)\n",
    "    second_atom_coordinates = np.array(second_atom_coordinates)\n",
    "    third_atom_coordinates = np.array(third_atom_coordinates)\n",
    "\n",
    "    p = (second_atom_coordinates - first_atom_coordinates) \n",
    "    q = (third_atom_coordinates - second_atom_coordinates) \n",
    "\n",
    "    ABC_plane_normal = np.cross(p, q)\n",
    "    ABC_plane_normal = ABC_plane_normal / np.linalg.norm(ABC_plane_normal)\n",
    "    print(\"ABC_plane_normal:\", ABC_plane_normal)\n",
    "\n",
    "    unit_vector_along_q = q / np.linalg.norm(q)\n",
    "    print(\"unit_vector_along_q:\", unit_vector_along_q)\n",
    "\n",
    "    initial_pos = unit_vector_along_q * bond_length\n",
    "\n",
    "    rotated_pos = rotate_point(initial_pos, 180-bond_angle, ABC_plane_normal)\n",
    "\n",
    "    final_pos = rotate_point(rotated_pos, dihedral_angle, unit_vector_along_q)\n",
    "\n",
    "    # return final_pos\n",
    "    return final_pos + third_atom_coordinates\n",
    "\n",
    "\n",
    "if __name__ == '__main__':\n",
    "    atom_coordinates = [[], [], []]\n",
    "    atom_coordinates[0] = [0, 0, 0]\n",
    "    atom_coordinates[1] = [1.453, 0, 0]\n",
    "    atom_coordinates[2] = [1.959, -0.628, -1.30]\n",
    "    bond_length = 1.3\n",
    "    bond_angle = 120\n",
    "    dihedral_angle = 30\n",
    "\n",
    "    fourth_atom_coordinates = get_fourth_atom_coordinates(atom_coordinates[0], atom_coordinates[1], atom_coordinates[2], bond_length, bond_angle, dihedral_angle)\n",
    "\n",
    "    print(\"Coordinates of fourth atom are:\", fourth_atom_coordinates)\n"
   ]
  }
 ],
 "metadata": {
  "kernelspec": {
   "display_name": "Python 3.9.0 64-bit",
   "language": "python",
   "name": "python3"
  },
  "language_info": {
   "codemirror_mode": {
    "name": "ipython",
    "version": 3
   },
   "file_extension": ".py",
   "mimetype": "text/x-python",
   "name": "python",
   "nbconvert_exporter": "python",
   "pygments_lexer": "ipython3",
   "version": "3.9.0"
  },
  "orig_nbformat": 4,
  "vscode": {
   "interpreter": {
    "hash": "2ab3358cdb51c07e775b229cf00c807ae98418eff73dc2a91d425d06b9c9c9c8"
   }
  }
 },
 "nbformat": 4,
 "nbformat_minor": 2
}
